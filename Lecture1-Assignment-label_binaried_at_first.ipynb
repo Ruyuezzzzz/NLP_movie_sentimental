{
 "cells": [
  {
   "cell_type": "markdown",
   "metadata": {},
   "source": [
    "## Movie Review Classification\n",
    "\n",
    "![This is getting exciting](https://i.kinja-img.com/gawker-media/image/upload/s--hIgTSFEs--/c_fit,fl_progressive,q_80,w_320/17j2zn73qxdlfgif.jpg)"
   ]
  },
  {
   "cell_type": "markdown",
   "metadata": {},
   "source": [
    "Using all that we have learned, we will now combine our techniques to perform some basic classifcation! We'll be using the nltk movie reviews data set, we will classify positive and negative reviews. "
   ]
  },
  {
   "cell_type": "code",
   "execution_count": 1,
   "metadata": {
    "collapsed": true
   },
   "outputs": [],
   "source": [
    "import nltk\n",
    "from nltk.corpus import movie_reviews as reviews\n",
    "x = [reviews.raw(fileid) for fileid in reviews.fileids()]\n",
    "y = [reviews.categories(fileid)[0] for fileid in reviews.fileids()]"
   ]
  },
  {
   "cell_type": "code",
   "execution_count": 2,
   "metadata": {},
   "outputs": [
    {
     "name": "stdout",
     "output_type": "stream",
     "text": [
      "films adapted from comic books have had plenty of success , whether they're about superheroes ( batman , superman , spawn ) , or geared toward kids ( casper ) or the arthouse crowd ( ghost world ) , but there's never really been a comic book like from hell before . \n",
      "for starters , it was created by alan moore ( and eddie campbell ) , who brought the medium to a whole new level in the mid '80s with a 12-part series called the watchmen . \n",
      "to say moore and campbell thoroughly researched the subject of jack the ripper would be like saying michael jackson is starting to look a little odd . \n",
      "the book ( or \" graphic novel , \" if you will ) is over 500 pages long and includes nearly 30 more that consist of nothing but footnotes . \n",
      "in other words , don't dismiss this film because of its source . \n",
      "if you can get past the whole comic book thing , you might find another stumbling block in from hell's directors , albert and allen hughes . \n",
      "getting the hughes brothers to direct this seems almost as ludicrous as casting carrot top in , well , anything , but riddle me this : who better to direct a film that's set in the ghetto and features really violent street crime than the mad geniuses behind menace ii society ? \n",
      "the ghetto in question is , of course , whitechapel in 1888 london's east end . \n",
      "it's a filthy , sooty place where the whores ( called \" unfortunates \" ) are starting to get a little nervous about this mysterious psychopath who has been carving through their profession with surgical precision . \n",
      "when the first stiff turns up , copper peter godley ( robbie coltrane , the world is not enough ) calls in inspector frederick abberline ( johnny depp , blow ) to crack the case . \n",
      "abberline , a widower , has prophetic dreams he unsuccessfully tries to quell with copious amounts of absinthe and opium . \n",
      "upon arriving in whitechapel , he befriends an unfortunate named mary kelly ( heather graham , say it isn't so ) and proceeds to investigate the horribly gruesome crimes that even the police surgeon can't stomach . \n",
      "i don't think anyone needs to be briefed on jack the ripper , so i won't go into the particulars here , other than to say moore and campbell have a unique and interesting theory about both the identity of the killer and the reasons he chooses to slay . \n",
      "in the comic , they don't bother cloaking the identity of the ripper , but screenwriters terry hayes ( vertical limit ) and rafael yglesias ( les mis ? rables ) do a good job of keeping him hidden from viewers until the very end . \n",
      "it's funny to watch the locals blindly point the finger of blame at jews and indians because , after all , an englishman could never be capable of committing such ghastly acts . \n",
      "and from hell's ending had me whistling the stonecutters song from the simpsons for days ( \" who holds back the electric car/who made steve guttenberg a star ? \" ) . \n",
      "don't worry - it'll all make sense when you see it . \n",
      "now onto from hell's appearance : it's certainly dark and bleak enough , and it's surprising to see how much more it looks like a tim burton film than planet of the apes did ( at times , it seems like sleepy hollow 2 ) . \n",
      "the print i saw wasn't completely finished ( both color and music had not been finalized , so no comments about marilyn manson ) , but cinematographer peter deming ( don't say a word ) ably captures the dreariness of victorian-era london and helped make the flashy killing scenes remind me of the crazy flashbacks in twin peaks , even though the violence in the film pales in comparison to that in the black-and-white comic . \n",
      "oscar winner martin childs' ( shakespeare in love ) production design turns the original prague surroundings into one creepy place . \n",
      "even the acting in from hell is solid , with the dreamy depp turning in a typically strong performance and deftly handling a british accent . \n",
      "ians holm ( joe gould's secret ) and richardson ( 102 dalmatians ) log in great supporting roles , but the big surprise here is graham . \n",
      "i cringed the first time she opened her mouth , imagining her attempt at an irish accent , but it actually wasn't half bad . \n",
      "the film , however , is all good . \n",
      "2 : 00 - r for strong violence/gore , sexuality , language and drug content \n",
      "\n"
     ]
    }
   ],
   "source": [
    "#print a positive review\n",
    "for i in range(len(y)):\n",
    "    if y[i] == \"pos\":\n",
    "        print (x[i])\n",
    "        break"
   ]
  },
  {
   "cell_type": "code",
   "execution_count": 5,
   "metadata": {},
   "outputs": [
    {
     "name": "stdout",
     "output_type": "stream",
     "text": [
      "plot : two teen couples go to a church party , drink and then drive . \n",
      "they get into an accident . \n",
      "one of the guys dies , but his girlfriend continues to see him in her life , and has nightmares . \n",
      "what's the deal ? \n",
      "watch the movie and \" sorta \" find out . . . \n",
      "critique : a mind-fuck movie for the teen generation that touches on a very cool idea , but presents it in a very bad package . \n",
      "which is what makes this review an even harder one to write , since i generally applaud films which attempt to break the mold , mess with your head and such ( lost highway & memento ) , but there are good and bad ways of making all types of films , and these folks just didn't snag this one correctly . \n",
      "they seem to have taken this pretty neat concept , but executed it terribly . \n",
      "so what are the problems with the movie ? \n",
      "well , its main problem is that it's simply too jumbled . \n",
      "it starts off \" normal \" but then downshifts into this \" fantasy \" world in which you , as an audience member , have no idea what's going on . \n",
      "there are dreams , there are characters coming back from the dead , there are others who look like the dead , there are strange apparitions , there are disappearances , there are a looooot of chase scenes , there are tons of weird things that happen , and most of it is simply not explained . \n",
      "now i personally don't mind trying to unravel a film every now and then , but when all it does is give me the same clue over and over again , i get kind of fed up after a while , which is this film's biggest problem . \n",
      "it's obviously got this big secret to hide , but it seems to want to hide it completely until its final five minutes . \n",
      "and do they make things entertaining , thrilling or even engaging , in the meantime ? \n",
      "not really . \n",
      "the sad part is that the arrow and i both dig on flicks like this , so we actually figured most of it out by the half-way point , so all of the strangeness after that did start to make a little bit of sense , but it still didn't the make the film all that more entertaining . \n",
      "i guess the bottom line with movies like this is that you should always make sure that the audience is \" into it \" even before they are given the secret password to enter your world of understanding . \n",
      "i mean , showing melissa sagemiller running away from visions for about 20 minutes throughout the movie is just plain lazy ! ! \n",
      "okay , we get it . . . there \n",
      "are people chasing her and we don't know who they are . \n",
      "do we really need to see it over and over again ? \n",
      "how about giving us different scenes offering further insight into all of the strangeness going down in the movie ? \n",
      "apparently , the studio took this film away from its director and chopped it up themselves , and it shows . \n",
      "there might've been a pretty decent teen mind-fuck movie in here somewhere , but i guess \" the suits \" decided that turning it into a music video with little edge , would make more sense . \n",
      "the actors are pretty good for the most part , although wes bentley just seemed to be playing the exact same character that he did in american beauty , only in a new neighborhood . \n",
      "but my biggest kudos go out to sagemiller , who holds her own throughout the entire film , and actually has you feeling her character's unraveling . \n",
      "overall , the film doesn't stick because it doesn't entertain , it's confusing , it rarely excites and it feels pretty redundant for most of its runtime , despite a pretty cool ending and explanation to all of the craziness that came before it . \n",
      "oh , and by the way , this is not a horror or teen slasher flick . . . it's \n",
      "just packaged to look that way because someone is apparently assuming that the genre is still hot with the kids . \n",
      "it also wrapped production two years ago and has been sitting on the shelves ever since . \n",
      "whatever . . . skip \n",
      "it ! \n",
      "where's joblo coming from ? \n",
      "a nightmare of elm street 3 ( 7/10 ) - blair witch 2 ( 7/10 ) - the crow ( 9/10 ) - the crow : salvation ( 4/10 ) - lost highway ( 10/10 ) - memento ( 10/10 ) - the others ( 9/10 ) - stir of echoes ( 8/10 ) \n",
      "\n"
     ]
    }
   ],
   "source": [
    "#print a negative review\n",
    "for e in range(len(y)):\n",
    "    if y[e] == \"neg\":\n",
    "        print (x[e])\n",
    "        break    "
   ]
  },
  {
   "cell_type": "markdown",
   "metadata": {},
   "source": [
    "2 - Using the scikit train_test_split function (http://scikit-learn.org/stable/modules/generated/sklearn.model_selection.train_test_split.html), split the data into a training set and a test set. "
   ]
  },
  {
   "cell_type": "code",
   "execution_count": 3,
   "metadata": {
    "collapsed": true
   },
   "outputs": [],
   "source": [
    "#split the data into a training set and a test set.\n",
    "from sklearn.model_selection import train_test_split\n",
    "from sklearn import preprocessing\n",
    "#binary the label \"neg\" and \"pos\" into 0 and 1 \n",
    "lb = preprocessing.LabelBinarizer()\n",
    "y=lb.fit_transform(y)\n",
    "y=y.reshape(2000)\n",
    "x_train, x_test, y_train, y_test = train_test_split(x,y,test_size=0.2)\n"
   ]
  },
  {
   "cell_type": "code",
   "execution_count": 4,
   "metadata": {},
   "outputs": [
    {
     "data": {
      "text/plain": [
       "list"
      ]
     },
     "execution_count": 4,
     "metadata": {},
     "output_type": "execute_result"
    }
   ],
   "source": [
    "type(x)"
   ]
  },
  {
   "cell_type": "markdown",
   "metadata": {},
   "source": [
    "3 - Then lemmatize or stem the reviews, and transform the documents to tf-idf."
   ]
  },
  {
   "cell_type": "code",
   "execution_count": 5,
   "metadata": {
    "collapsed": true
   },
   "outputs": [],
   "source": [
    "#stem the reviews\n",
    "from nltk.stem.porter import PorterStemmer\n",
    "#lemmatizer = WordNetLemmatizer()\n",
    "stemmer=PorterStemmer()"
   ]
  },
  {
   "cell_type": "code",
   "execution_count": 6,
   "metadata": {},
   "outputs": [
    {
     "data": {
      "text/plain": [
       "'books could be   and indeed have been written about the star wars trilogy   and rightfully so    this is a set of movies that shattered all expectations of what science fiction could be in the late   s early   s   inspiring literally dozens of clones   from battlestar galactica all the way up to stargate and independance day   and one could argue revitalizing the whole science fiction genre    the special effects were groundbreaking   revolutionary for their day and still eminently watchable well into twenty years later    literally millions of people have seen the star wars trilogy and been touched by it    and now   george lucas brings it back for a new audience to enjoy    much has been and is still being made of the fact that mr   lucas has gone back and revised his trilogy for rerelease now    some fans are angry that he has dared to meddle with what they consider perfection   while others are thrilled by the idea of seeing yesterday s star wars updated with today s special effects wizardry    either way   the special edition release means that star wars is back on the big screen   where it rightfully deserves to be seen    can there be anyone in the world who doesn t know what star wars is about    in a way   star wars is so much a part of our cultural heritage that it feels silly and almost artificial to try to summarize it    it s a story about a young man s coming of age   a fight for freedom against an oppressive empire   a tale of swashbuckling and derring do the likes of which haven t been seen on the silver screen in decades   strange new worlds with strange alien creatures and weird surprises around every turn   and the yearning within each of us to realize our dreams and make a difference in the world    it s high adventure   incredible special effects   and       well   it s just an  experience     something about this movie sparked the imagination of a generation       and  it s about to do so again    this new release of star wars comes as no surprise to many of the film s devoted fans   who have been trading rumors and bits of information about it for quite some time now    interviews   trailers   leaks from within lucasfilm       all of these have been collected   collated   and placed on webpages for people to see   pages such as http     www   islandnet   com  corona films details sw    html  or   my personal favorite   http     leopard   cs   latrobe   edu   au  koukoula         pictures of before and after have been placed side by side       even  months before the movies were released   fans were making comparisons    in some cases   the changes were nothing less than phenomenal   and this can be seen from the comparison shots even before you go into the movie theater    the digital matte effects that were little more than a toy in forrest gump are put to excellent use here   unnoticeably sprucing up scenes that that george lucas was unsatisfied with in the original    for instance   in my personal favorite example   the ancient temple on yavin that was formerly a flat stone edifice now has deep   moss covered carvings and etchings    and mos eisley spaceport is now a bustling   booming city   with more surprises and things going on in the background than you can notice on the first viewing    all the starships and fighters are now computer animated   getting rid of glitches and artifacts of the special effects processes used when the film was originally made  and they look  fantastic     four and a half minutes of new or missing footage have been added   including a scene with jabba the hutt that had originally been shelved because the state of special effects in      simply couldn t do it justice    however   much of the ten million dollars that was spent on the star wars special edition restoration went into restoring the quality of the film itself    the negatives   badly damaged by the ravages of time   were brightened and returned to their original splendor    the audio tracks were remixed and reprocessed   with reworked sound effects by effects maven ben burtt   into glorious   booming   theater shaking full thx dolby digital stereo    and  that    more than the added scenes or new special effects   is where the real value of this new version lies    it s really true what they say in the commercials   star wars loses  so much  on the small screen    even letterboxing doesn t make up for the decrease in size and definition    in regard to the star wars special edition   and to the other two films of the trilogy which have yet to be released   i ll make this final recommendation   go and see it    go and see it more than once       it  may be another twenty years before it comes back to the big screen after it s gone this time    take along the youngsters who ve never had the big screen star wars experience  you ll enjoy seeing it through their eyes as much as they will enjoy it for the first time    there s magic in this movie  special edition or no   there can be no denying that it s still star wars   and still has the power to thrill and enthrall children of all ages   from four to four hundred    let s all return to that time long ago   and that galaxy far   far away        '"
      ]
     },
     "execution_count": 6,
     "metadata": {},
     "output_type": "execute_result"
    }
   ],
   "source": [
    "from nltk import sent_tokenize\n",
    "import re\n",
    "#clean x_train reviews\n",
    "x_train_words_only = [re.sub(\"[^a-zA-Z]\", \" \", t) for t in x_train]\n",
    "x_train_words_only[-1]\n",
    "len(x_train_words_only)    \n",
    "x_train_words_only[0]"
   ]
  },
  {
   "cell_type": "code",
   "execution_count": 12,
   "metadata": {
    "collapsed": true
   },
   "outputs": [],
   "source": [
    "#tokenize x_train reviews\n",
    "token_x_train=[nltk.word_tokenize(d)for d in x_train_words_only]\n",
    "#print(len(token_x_train))\n",
    "#print(token_x_train[0])\n",
    "\n",
    "\n"
   ]
  },
  {
   "cell_type": "code",
   "execution_count": 14,
   "metadata": {},
   "outputs": [
    {
     "data": {
      "text/plain": [
       "['books',\n",
       " 'could',\n",
       " 'be',\n",
       " 'and',\n",
       " 'indeed',\n",
       " 'have',\n",
       " 'been',\n",
       " 'written',\n",
       " 'about',\n",
       " 'the',\n",
       " 'star',\n",
       " 'wars',\n",
       " 'trilogy',\n",
       " 'and',\n",
       " 'rightfully',\n",
       " 'so',\n",
       " 'this',\n",
       " 'is',\n",
       " 'a',\n",
       " 'set',\n",
       " 'of',\n",
       " 'movies',\n",
       " 'that',\n",
       " 'shattered',\n",
       " 'all',\n",
       " 'expectations',\n",
       " 'of',\n",
       " 'what',\n",
       " 'science',\n",
       " 'fiction',\n",
       " 'could',\n",
       " 'be',\n",
       " 'in',\n",
       " 'the',\n",
       " 'late',\n",
       " 's',\n",
       " 'early',\n",
       " 's',\n",
       " 'inspiring',\n",
       " 'literally',\n",
       " 'dozens',\n",
       " 'of',\n",
       " 'clones',\n",
       " 'from',\n",
       " 'battlestar',\n",
       " 'galactica',\n",
       " 'all',\n",
       " 'the',\n",
       " 'way',\n",
       " 'up',\n",
       " 'to',\n",
       " 'stargate',\n",
       " 'and',\n",
       " 'independance',\n",
       " 'day',\n",
       " 'and',\n",
       " 'one',\n",
       " 'could',\n",
       " 'argue',\n",
       " 'revitalizing',\n",
       " 'the',\n",
       " 'whole',\n",
       " 'science',\n",
       " 'fiction',\n",
       " 'genre',\n",
       " 'the',\n",
       " 'special',\n",
       " 'effects',\n",
       " 'were',\n",
       " 'groundbreaking',\n",
       " 'revolutionary',\n",
       " 'for',\n",
       " 'their',\n",
       " 'day',\n",
       " 'and',\n",
       " 'still',\n",
       " 'eminently',\n",
       " 'watchable',\n",
       " 'well',\n",
       " 'into',\n",
       " 'twenty',\n",
       " 'years',\n",
       " 'later',\n",
       " 'literally',\n",
       " 'millions',\n",
       " 'of',\n",
       " 'people',\n",
       " 'have',\n",
       " 'seen',\n",
       " 'the',\n",
       " 'star',\n",
       " 'wars',\n",
       " 'trilogy',\n",
       " 'and',\n",
       " 'been',\n",
       " 'touched',\n",
       " 'by',\n",
       " 'it',\n",
       " 'and',\n",
       " 'now',\n",
       " 'george',\n",
       " 'lucas',\n",
       " 'brings',\n",
       " 'it',\n",
       " 'back',\n",
       " 'for',\n",
       " 'a',\n",
       " 'new',\n",
       " 'audience',\n",
       " 'to',\n",
       " 'enjoy',\n",
       " 'much',\n",
       " 'has',\n",
       " 'been',\n",
       " 'and',\n",
       " 'is',\n",
       " 'still',\n",
       " 'being',\n",
       " 'made',\n",
       " 'of',\n",
       " 'the',\n",
       " 'fact',\n",
       " 'that',\n",
       " 'mr',\n",
       " 'lucas',\n",
       " 'has',\n",
       " 'gone',\n",
       " 'back',\n",
       " 'and',\n",
       " 'revised',\n",
       " 'his',\n",
       " 'trilogy',\n",
       " 'for',\n",
       " 'rerelease',\n",
       " 'now',\n",
       " 'some',\n",
       " 'fans',\n",
       " 'are',\n",
       " 'angry',\n",
       " 'that',\n",
       " 'he',\n",
       " 'has',\n",
       " 'dared',\n",
       " 'to',\n",
       " 'meddle',\n",
       " 'with',\n",
       " 'what',\n",
       " 'they',\n",
       " 'consider',\n",
       " 'perfection',\n",
       " 'while',\n",
       " 'others',\n",
       " 'are',\n",
       " 'thrilled',\n",
       " 'by',\n",
       " 'the',\n",
       " 'idea',\n",
       " 'of',\n",
       " 'seeing',\n",
       " 'yesterday',\n",
       " 's',\n",
       " 'star',\n",
       " 'wars',\n",
       " 'updated',\n",
       " 'with',\n",
       " 'today',\n",
       " 's',\n",
       " 'special',\n",
       " 'effects',\n",
       " 'wizardry',\n",
       " 'either',\n",
       " 'way',\n",
       " 'the',\n",
       " 'special',\n",
       " 'edition',\n",
       " 'release',\n",
       " 'means',\n",
       " 'that',\n",
       " 'star',\n",
       " 'wars',\n",
       " 'is',\n",
       " 'back',\n",
       " 'on',\n",
       " 'the',\n",
       " 'big',\n",
       " 'screen',\n",
       " 'where',\n",
       " 'it',\n",
       " 'rightfully',\n",
       " 'deserves',\n",
       " 'to',\n",
       " 'be',\n",
       " 'seen',\n",
       " 'can',\n",
       " 'there',\n",
       " 'be',\n",
       " 'anyone',\n",
       " 'in',\n",
       " 'the',\n",
       " 'world',\n",
       " 'who',\n",
       " 'doesn',\n",
       " 't',\n",
       " 'know',\n",
       " 'what',\n",
       " 'star',\n",
       " 'wars',\n",
       " 'is',\n",
       " 'about',\n",
       " 'in',\n",
       " 'a',\n",
       " 'way',\n",
       " 'star',\n",
       " 'wars',\n",
       " 'is',\n",
       " 'so',\n",
       " 'much',\n",
       " 'a',\n",
       " 'part',\n",
       " 'of',\n",
       " 'our',\n",
       " 'cultural',\n",
       " 'heritage',\n",
       " 'that',\n",
       " 'it',\n",
       " 'feels',\n",
       " 'silly',\n",
       " 'and',\n",
       " 'almost',\n",
       " 'artificial',\n",
       " 'to',\n",
       " 'try',\n",
       " 'to',\n",
       " 'summarize',\n",
       " 'it',\n",
       " 'it',\n",
       " 's',\n",
       " 'a',\n",
       " 'story',\n",
       " 'about',\n",
       " 'a',\n",
       " 'young',\n",
       " 'man',\n",
       " 's',\n",
       " 'coming',\n",
       " 'of',\n",
       " 'age',\n",
       " 'a',\n",
       " 'fight',\n",
       " 'for',\n",
       " 'freedom',\n",
       " 'against',\n",
       " 'an',\n",
       " 'oppressive',\n",
       " 'empire',\n",
       " 'a',\n",
       " 'tale',\n",
       " 'of',\n",
       " 'swashbuckling',\n",
       " 'and',\n",
       " 'derring',\n",
       " 'do',\n",
       " 'the',\n",
       " 'likes',\n",
       " 'of',\n",
       " 'which',\n",
       " 'haven',\n",
       " 't',\n",
       " 'been',\n",
       " 'seen',\n",
       " 'on',\n",
       " 'the',\n",
       " 'silver',\n",
       " 'screen',\n",
       " 'in',\n",
       " 'decades',\n",
       " 'strange',\n",
       " 'new',\n",
       " 'worlds',\n",
       " 'with',\n",
       " 'strange',\n",
       " 'alien',\n",
       " 'creatures',\n",
       " 'and',\n",
       " 'weird',\n",
       " 'surprises',\n",
       " 'around',\n",
       " 'every',\n",
       " 'turn',\n",
       " 'and',\n",
       " 'the',\n",
       " 'yearning',\n",
       " 'within',\n",
       " 'each',\n",
       " 'of',\n",
       " 'us',\n",
       " 'to',\n",
       " 'realize',\n",
       " 'our',\n",
       " 'dreams',\n",
       " 'and',\n",
       " 'make',\n",
       " 'a',\n",
       " 'difference',\n",
       " 'in',\n",
       " 'the',\n",
       " 'world',\n",
       " 'it',\n",
       " 's',\n",
       " 'high',\n",
       " 'adventure',\n",
       " 'incredible',\n",
       " 'special',\n",
       " 'effects',\n",
       " 'and',\n",
       " 'well',\n",
       " 'it',\n",
       " 's',\n",
       " 'just',\n",
       " 'an',\n",
       " 'experience',\n",
       " 'something',\n",
       " 'about',\n",
       " 'this',\n",
       " 'movie',\n",
       " 'sparked',\n",
       " 'the',\n",
       " 'imagination',\n",
       " 'of',\n",
       " 'a',\n",
       " 'generation',\n",
       " 'and',\n",
       " 'it',\n",
       " 's',\n",
       " 'about',\n",
       " 'to',\n",
       " 'do',\n",
       " 'so',\n",
       " 'again',\n",
       " 'this',\n",
       " 'new',\n",
       " 'release',\n",
       " 'of',\n",
       " 'star',\n",
       " 'wars',\n",
       " 'comes',\n",
       " 'as',\n",
       " 'no',\n",
       " 'surprise',\n",
       " 'to',\n",
       " 'many',\n",
       " 'of',\n",
       " 'the',\n",
       " 'film',\n",
       " 's',\n",
       " 'devoted',\n",
       " 'fans',\n",
       " 'who',\n",
       " 'have',\n",
       " 'been',\n",
       " 'trading',\n",
       " 'rumors',\n",
       " 'and',\n",
       " 'bits',\n",
       " 'of',\n",
       " 'information',\n",
       " 'about',\n",
       " 'it',\n",
       " 'for',\n",
       " 'quite',\n",
       " 'some',\n",
       " 'time',\n",
       " 'now',\n",
       " 'interviews',\n",
       " 'trailers',\n",
       " 'leaks',\n",
       " 'from',\n",
       " 'within',\n",
       " 'lucasfilm',\n",
       " 'all',\n",
       " 'of',\n",
       " 'these',\n",
       " 'have',\n",
       " 'been',\n",
       " 'collected',\n",
       " 'collated',\n",
       " 'and',\n",
       " 'placed',\n",
       " 'on',\n",
       " 'webpages',\n",
       " 'for',\n",
       " 'people',\n",
       " 'to',\n",
       " 'see',\n",
       " 'pages',\n",
       " 'such',\n",
       " 'as',\n",
       " 'http',\n",
       " 'www',\n",
       " 'islandnet',\n",
       " 'com',\n",
       " 'corona',\n",
       " 'films',\n",
       " 'details',\n",
       " 'sw',\n",
       " 'html',\n",
       " 'or',\n",
       " 'my',\n",
       " 'personal',\n",
       " 'favorite',\n",
       " 'http',\n",
       " 'leopard',\n",
       " 'cs',\n",
       " 'latrobe',\n",
       " 'edu',\n",
       " 'au',\n",
       " 'koukoula',\n",
       " 'pictures',\n",
       " 'of',\n",
       " 'before',\n",
       " 'and',\n",
       " 'after',\n",
       " 'have',\n",
       " 'been',\n",
       " 'placed',\n",
       " 'side',\n",
       " 'by',\n",
       " 'side',\n",
       " 'even',\n",
       " 'months',\n",
       " 'before',\n",
       " 'the',\n",
       " 'movies',\n",
       " 'were',\n",
       " 'released',\n",
       " 'fans',\n",
       " 'were',\n",
       " 'making',\n",
       " 'comparisons',\n",
       " 'in',\n",
       " 'some',\n",
       " 'cases',\n",
       " 'the',\n",
       " 'changes',\n",
       " 'were',\n",
       " 'nothing',\n",
       " 'less',\n",
       " 'than',\n",
       " 'phenomenal',\n",
       " 'and',\n",
       " 'this',\n",
       " 'can',\n",
       " 'be',\n",
       " 'seen',\n",
       " 'from',\n",
       " 'the',\n",
       " 'comparison',\n",
       " 'shots',\n",
       " 'even',\n",
       " 'before',\n",
       " 'you',\n",
       " 'go',\n",
       " 'into',\n",
       " 'the',\n",
       " 'movie',\n",
       " 'theater',\n",
       " 'the',\n",
       " 'digital',\n",
       " 'matte',\n",
       " 'effects',\n",
       " 'that',\n",
       " 'were',\n",
       " 'little',\n",
       " 'more',\n",
       " 'than',\n",
       " 'a',\n",
       " 'toy',\n",
       " 'in',\n",
       " 'forrest',\n",
       " 'gump',\n",
       " 'are',\n",
       " 'put',\n",
       " 'to',\n",
       " 'excellent',\n",
       " 'use',\n",
       " 'here',\n",
       " 'unnoticeably',\n",
       " 'sprucing',\n",
       " 'up',\n",
       " 'scenes',\n",
       " 'that',\n",
       " 'that',\n",
       " 'george',\n",
       " 'lucas',\n",
       " 'was',\n",
       " 'unsatisfied',\n",
       " 'with',\n",
       " 'in',\n",
       " 'the',\n",
       " 'original',\n",
       " 'for',\n",
       " 'instance',\n",
       " 'in',\n",
       " 'my',\n",
       " 'personal',\n",
       " 'favorite',\n",
       " 'example',\n",
       " 'the',\n",
       " 'ancient',\n",
       " 'temple',\n",
       " 'on',\n",
       " 'yavin',\n",
       " 'that',\n",
       " 'was',\n",
       " 'formerly',\n",
       " 'a',\n",
       " 'flat',\n",
       " 'stone',\n",
       " 'edifice',\n",
       " 'now',\n",
       " 'has',\n",
       " 'deep',\n",
       " 'moss',\n",
       " 'covered',\n",
       " 'carvings',\n",
       " 'and',\n",
       " 'etchings',\n",
       " 'and',\n",
       " 'mos',\n",
       " 'eisley',\n",
       " 'spaceport',\n",
       " 'is',\n",
       " 'now',\n",
       " 'a',\n",
       " 'bustling',\n",
       " 'booming',\n",
       " 'city',\n",
       " 'with',\n",
       " 'more',\n",
       " 'surprises',\n",
       " 'and',\n",
       " 'things',\n",
       " 'going',\n",
       " 'on',\n",
       " 'in',\n",
       " 'the',\n",
       " 'background',\n",
       " 'than',\n",
       " 'you',\n",
       " 'can',\n",
       " 'notice',\n",
       " 'on',\n",
       " 'the',\n",
       " 'first',\n",
       " 'viewing',\n",
       " 'all',\n",
       " 'the',\n",
       " 'starships',\n",
       " 'and',\n",
       " 'fighters',\n",
       " 'are',\n",
       " 'now',\n",
       " 'computer',\n",
       " 'animated',\n",
       " 'getting',\n",
       " 'rid',\n",
       " 'of',\n",
       " 'glitches',\n",
       " 'and',\n",
       " 'artifacts',\n",
       " 'of',\n",
       " 'the',\n",
       " 'special',\n",
       " 'effects',\n",
       " 'processes',\n",
       " 'used',\n",
       " 'when',\n",
       " 'the',\n",
       " 'film',\n",
       " 'was',\n",
       " 'originally',\n",
       " 'made',\n",
       " 'and',\n",
       " 'they',\n",
       " 'look',\n",
       " 'fantastic',\n",
       " 'four',\n",
       " 'and',\n",
       " 'a',\n",
       " 'half',\n",
       " 'minutes',\n",
       " 'of',\n",
       " 'new',\n",
       " 'or',\n",
       " 'missing',\n",
       " 'footage',\n",
       " 'have',\n",
       " 'been',\n",
       " 'added',\n",
       " 'including',\n",
       " 'a',\n",
       " 'scene',\n",
       " 'with',\n",
       " 'jabba',\n",
       " 'the',\n",
       " 'hutt',\n",
       " 'that',\n",
       " 'had',\n",
       " 'originally',\n",
       " 'been',\n",
       " 'shelved',\n",
       " 'because',\n",
       " 'the',\n",
       " 'state',\n",
       " 'of',\n",
       " 'special',\n",
       " 'effects',\n",
       " 'in',\n",
       " 'simply',\n",
       " 'couldn',\n",
       " 't',\n",
       " 'do',\n",
       " 'it',\n",
       " 'justice',\n",
       " 'however',\n",
       " 'much',\n",
       " 'of',\n",
       " 'the',\n",
       " 'ten',\n",
       " 'million',\n",
       " 'dollars',\n",
       " 'that',\n",
       " 'was',\n",
       " 'spent',\n",
       " 'on',\n",
       " 'the',\n",
       " 'star',\n",
       " 'wars',\n",
       " 'special',\n",
       " 'edition',\n",
       " 'restoration',\n",
       " 'went',\n",
       " 'into',\n",
       " 'restoring',\n",
       " 'the',\n",
       " 'quality',\n",
       " 'of',\n",
       " 'the',\n",
       " 'film',\n",
       " 'itself',\n",
       " 'the',\n",
       " 'negatives',\n",
       " 'badly',\n",
       " 'damaged',\n",
       " 'by',\n",
       " 'the',\n",
       " 'ravages',\n",
       " 'of',\n",
       " 'time',\n",
       " 'were',\n",
       " 'brightened',\n",
       " 'and',\n",
       " 'returned',\n",
       " 'to',\n",
       " 'their',\n",
       " 'original',\n",
       " 'splendor',\n",
       " 'the',\n",
       " 'audio',\n",
       " 'tracks',\n",
       " 'were',\n",
       " 'remixed',\n",
       " 'and',\n",
       " 'reprocessed',\n",
       " 'with',\n",
       " 'reworked',\n",
       " 'sound',\n",
       " 'effects',\n",
       " 'by',\n",
       " 'effects',\n",
       " 'maven',\n",
       " 'ben',\n",
       " 'burtt',\n",
       " 'into',\n",
       " 'glorious',\n",
       " 'booming',\n",
       " 'theater',\n",
       " 'shaking',\n",
       " 'full',\n",
       " 'thx',\n",
       " 'dolby',\n",
       " 'digital',\n",
       " 'stereo',\n",
       " 'and',\n",
       " 'that',\n",
       " 'more',\n",
       " 'than',\n",
       " 'the',\n",
       " 'added',\n",
       " 'scenes',\n",
       " 'or',\n",
       " 'new',\n",
       " 'special',\n",
       " 'effects',\n",
       " 'is',\n",
       " 'where',\n",
       " 'the',\n",
       " 'real',\n",
       " 'value',\n",
       " 'of',\n",
       " 'this',\n",
       " 'new',\n",
       " 'version',\n",
       " 'lies',\n",
       " 'it',\n",
       " 's',\n",
       " 'really',\n",
       " 'true',\n",
       " 'what',\n",
       " 'they',\n",
       " 'say',\n",
       " 'in',\n",
       " 'the',\n",
       " 'commercials',\n",
       " 'star',\n",
       " 'wars',\n",
       " 'loses',\n",
       " 'so',\n",
       " 'much',\n",
       " 'on',\n",
       " 'the',\n",
       " 'small',\n",
       " 'screen',\n",
       " 'even',\n",
       " 'letterboxing',\n",
       " 'doesn',\n",
       " 't',\n",
       " 'make',\n",
       " 'up',\n",
       " 'for',\n",
       " 'the',\n",
       " 'decrease',\n",
       " 'in',\n",
       " 'size',\n",
       " 'and',\n",
       " 'definition',\n",
       " 'in',\n",
       " 'regard',\n",
       " 'to',\n",
       " 'the',\n",
       " 'star',\n",
       " 'wars',\n",
       " 'special',\n",
       " 'edition',\n",
       " 'and',\n",
       " 'to',\n",
       " 'the',\n",
       " 'other',\n",
       " 'two',\n",
       " 'films',\n",
       " 'of',\n",
       " 'the',\n",
       " 'trilogy',\n",
       " 'which',\n",
       " 'have',\n",
       " 'yet',\n",
       " 'to',\n",
       " 'be',\n",
       " 'released',\n",
       " 'i',\n",
       " 'll',\n",
       " 'make',\n",
       " 'this',\n",
       " 'final',\n",
       " 'recommendation',\n",
       " 'go',\n",
       " 'and',\n",
       " 'see',\n",
       " 'it',\n",
       " 'go',\n",
       " 'and',\n",
       " 'see',\n",
       " 'it',\n",
       " 'more',\n",
       " 'than',\n",
       " 'once',\n",
       " 'it',\n",
       " 'may',\n",
       " 'be',\n",
       " 'another',\n",
       " 'twenty',\n",
       " 'years',\n",
       " 'before',\n",
       " 'it',\n",
       " 'comes',\n",
       " 'back',\n",
       " 'to',\n",
       " 'the',\n",
       " 'big',\n",
       " 'screen',\n",
       " 'after',\n",
       " 'it',\n",
       " 's',\n",
       " 'gone',\n",
       " 'this',\n",
       " 'time',\n",
       " 'take',\n",
       " 'along',\n",
       " 'the',\n",
       " 'youngsters',\n",
       " 'who',\n",
       " 've',\n",
       " 'never',\n",
       " 'had',\n",
       " 'the',\n",
       " 'big',\n",
       " 'screen',\n",
       " 'star',\n",
       " 'wars',\n",
       " 'experience',\n",
       " 'you',\n",
       " 'll',\n",
       " 'enjoy',\n",
       " 'seeing',\n",
       " 'it',\n",
       " 'through',\n",
       " 'their',\n",
       " 'eyes',\n",
       " 'as',\n",
       " 'much',\n",
       " 'as',\n",
       " 'they',\n",
       " 'will',\n",
       " 'enjoy',\n",
       " 'it',\n",
       " 'for',\n",
       " 'the',\n",
       " 'first',\n",
       " 'time',\n",
       " 'there',\n",
       " 's',\n",
       " 'magic',\n",
       " 'in',\n",
       " 'this',\n",
       " 'movie',\n",
       " 'special',\n",
       " 'edition',\n",
       " 'or',\n",
       " 'no',\n",
       " 'there',\n",
       " 'can',\n",
       " 'be',\n",
       " 'no',\n",
       " 'denying',\n",
       " 'that',\n",
       " 'it',\n",
       " 's',\n",
       " 'still',\n",
       " 'star',\n",
       " 'wars',\n",
       " 'and',\n",
       " 'still',\n",
       " 'has',\n",
       " 'the',\n",
       " 'power',\n",
       " 'to',\n",
       " 'thrill',\n",
       " 'and',\n",
       " 'enthrall',\n",
       " 'children',\n",
       " 'of',\n",
       " 'all',\n",
       " 'ages',\n",
       " 'from',\n",
       " 'four',\n",
       " 'to',\n",
       " 'four',\n",
       " 'hundred',\n",
       " 'let',\n",
       " 's',\n",
       " 'all',\n",
       " 'return',\n",
       " 'to',\n",
       " 'that',\n",
       " 'time',\n",
       " 'long',\n",
       " 'ago',\n",
       " 'and',\n",
       " 'that',\n",
       " 'galaxy',\n",
       " 'far',\n",
       " 'far',\n",
       " 'away']"
      ]
     },
     "execution_count": 14,
     "metadata": {},
     "output_type": "execute_result"
    }
   ],
   "source": [
    "token_x_train[0]"
   ]
  },
  {
   "cell_type": "code",
   "execution_count": 11,
   "metadata": {
    "collapsed": true
   },
   "outputs": [],
   "source": [
    "from nltk.tokenize.moses import MosesDetokenizer\n",
    "detokenizer = MosesDetokenizer()\n",
    "#stem review in train dataset\n",
    "stem_x_train=[]\n",
    "for h in range(1600):\n",
    "             stem_x=[stemmer.stem (n) for n in token_x_train[h]]\n",
    "             wwwd=detokenizer.detokenize(stem_x, return_str=True)\n",
    "             stem_x_train.append(wwwd)"
   ]
  },
  {
   "cell_type": "code",
   "execution_count": 12,
   "metadata": {},
   "outputs": [
    {
     "data": {
      "text/plain": [
       "1600"
      ]
     },
     "execution_count": 12,
     "metadata": {},
     "output_type": "execute_result"
    }
   ],
   "source": [
    "len(stem_x_train)"
   ]
  },
  {
   "cell_type": "code",
   "execution_count": 22,
   "metadata": {},
   "outputs": [
    {
     "data": {
      "text/plain": [
       "'last night could have an aka tag on the end of it that say it s the end of the world and we feel fine last night is about just that the last night of planet earth s exist the world is go to end at precis midnight januari st how scientist were so accur abl to predict when thi catastroph event would occur is never explain nor is the event itself throughout the entir movi no explan is given as to whi thi is happen in do thi mckellar who also wrote and direct the film seem to be tri to transcend the genr he s attempt to make a film about peopl and how each of them deal with their last night of life the film contain no scienc fiction element which allow the viewer to concentr on the feel and action of the charact mckellar is larg success in hi attempt to rise abov hi materi the film is set in toronto and follow sever peopl in their variou escapad on the last night of exist there s mckellar who play a man who just want to be alon when the moment occur but keep get interrupt by a woman sandra oh in search of her husband her husband play by david cronenberg is spend the day work at the ga compani inform peopl that they will attempt to keep provid ga right up until the end final there s mckellar s friend play by callum keith renni a man who ha spent hi final month tri out everi sexual pervers you can think of mckellar ha craft a gang of the some of the most interest charact i ve seen in a film in month these peopl all felt real to me especi the charact play by sandra oh we can see her desper her utter need to be with her husband in the final hour renni is good too as the man who want to liter tri everyth befor he die he exud such charm and likeabl it s not surpris that we re root for him to get what he want but for me the biggest surpris in the movi is mckellar i knew that he wa a talent director but i had no idea he could act as well hi insist to be alon much to the dismay of hi parent is someth that most peopl would find difficult to understand but as play by mckellar we can understand hi reason he doesn t buy into the whole notion that just becaus everyon s go to die he should immedi find some companionship he realiz the relationship would be forc and they would onli be togeth for the sake of be togeth mckellar give a brilliant perform and i hope he altern between direct and act my onli quibbl with the film is that we never find out whi the world is end i realli want to know and my need to know wa hang over the film at all time i appreci the fact that mckellar didn t want the materi to rule the film and that he want the movi to be more of a studi in human behavi howev in not tell the audienc what the caus of earth s destruct is he s left a big question that is in their mind throughout the film anoth problem is we never see anybodi panick i would imagin if the world wa end and there wa noth to be done about it a larg segment of the popul would be go out of their mind instead we are treat to shot of a giant crowd parti like it s new year s eve i just didn t buy the fact that everyon had complet accept their fate no one had the urg to rage against the die of the light despit these small problem last night is one of the best movi of the year as oppos to the moron armageddon last night treat the subject at hand with matur and believabilti and bruce willi never show up to save the day'"
      ]
     },
     "execution_count": 22,
     "metadata": {},
     "output_type": "execute_result"
    }
   ],
   "source": [
    "#comparison with original text\n",
    "stem_x_train[-1]"
   ]
  },
  {
   "cell_type": "code",
   "execution_count": 23,
   "metadata": {},
   "outputs": [
    {
     "data": {
      "text/plain": [
       "' \" last night \" could have an \" aka \" tagged on the end of it that says , \" it\\'s the end of the world , and we feel fine \" . \\n \" last night \" is about just that . \\nthe last night of planet earth\\'s existence . \\nthe world is going to end at precisely midnight , january 1st , 2000 . \\nhow scientists were so accurately able to predict when this catastrophic event would occur is never explained . \\nnor is the event itself . \\nthroughout the entire movie , no explanation is given as to why this is happening . \\nin doing this , mckellar ( who also wrote and directed the film ) seems to be trying to transcend the genre . \\nhe\\'s attempted to make a film about people , and how each of them deals with their last night of life . \\nthe film contains no science fiction elements , which allows the viewer to concentrate on the feelings and actions of the characters . \\nmckellar is largely successful in his attempt to rise above his material . \\nthe film is set in toronto , and follows several people in their various escapades on the last night of existence . \\nthere\\'s mckellar , who plays a man who just wants to be alone when the moment occurs , but keeps getting interrupted by a woman ( sandra oh ) in search of her husband . \\nher husband , played by david cronenberg , is spending the day working at the gas company , informing people that they will attempt to keep providing gas right up until the end . \\nfinally , there\\'s mckellar\\'s friend , played by callum keith rennie , a man who has spent his final months trying out every sexual perversion you can think of . \\nmckellar has crafted a gang of the some of the most interesting characters i\\'ve seen in a film in months . \\nthese people all felt real to me , especially the character played by sandra oh . \\nwe can see her desperation , her utter need to be with her husband in the final hours . \\nrennie is good , too , as the man who wants to literally try everything before he dies . \\nhe exudes such charm and likeablity , it\\'s not surprising that we\\'re rooting for him to get what he wants . \\nbut for me , the biggest surprise in the movie is mckellar . \\ni knew that he was a talented director , but i had no idea he could act as well . \\nhis insistence to be alone , much to the dismay of his parents , is something that most people would find difficult to understand , but as played by mckellar , we can understand his reasons . \\nhe doesn\\'t buy into the whole notion that just because everyone\\'s going to die , he should immediately find some companionship . \\nhe realizes the relationship would be forced , and they would only be together for the sake of being together . \\nmckellar gives a brilliant performance , and i hope he alternates between directing and acting . \\nmy only quibble with the film is that we never find out why the world is ending . \\ni really wanted to know , and my need to know was hanging over the film at all times . \\ni appreciate the fact that mckellar didn\\'t want the material to rule the film , and that he wanted the movie to be more of a study in human behavious . \\nhowever , in not telling the audience what the cause of earth\\'s destruction is , he\\'s left a big question that is in their minds throughout the film . \\nanother problem is we never see anybody panicking . \\ni would imagine if the world was ending , and there was nothing to be done about it , a large segment of the population would be going out of their minds . \\ninstead , we are treated to shots of a giant crowd partying like it\\'s new year\\'s eve . \\ni just didn\\'t buy the fact that everyone had completely accepted their fate . \\nno one had the urge to \" rage against the dying of the light \" . \\ndespite these small problems , \" last night \" is one of the best movies of the year . \\nas opposed to the moronic \" armageddon \" , \" last night \" treats the subject at hand with maturity and believabilty . \\nand bruce willis never shows up to save the day . \\n'"
      ]
     },
     "execution_count": 23,
     "metadata": {},
     "output_type": "execute_result"
    }
   ],
   "source": [
    "x_train[-1]"
   ]
  },
  {
   "cell_type": "code",
   "execution_count": 108,
   "metadata": {},
   "outputs": [
    {
     "data": {
      "text/plain": [
       "400"
      ]
     },
     "execution_count": 108,
     "metadata": {},
     "output_type": "execute_result"
    }
   ],
   "source": [
    "#clean x_test reviews\n",
    "x_test_words_only = [re.sub(\"[^a-zA-Z]\", \" \", t) for t in x_test]\n",
    "x_test_words_only[-1]\n",
    "len(x_test_words_only)"
   ]
  },
  {
   "cell_type": "code",
   "execution_count": 109,
   "metadata": {
    "collapsed": true
   },
   "outputs": [],
   "source": [
    "#tokenize x_test reviews\n",
    "token_x_test=[nltk.word_tokenize(d)for d in x_test_words_only]"
   ]
  },
  {
   "cell_type": "code",
   "execution_count": 110,
   "metadata": {
    "collapsed": true
   },
   "outputs": [],
   "source": [
    "#stem x_test reviews\n",
    "stem_x_test=[]\n",
    "for h in range(len(x_test_words_only)):\n",
    "             stem_xt=[stemmer.stem (n) for n in token_x_test[h]]\n",
    "             wwwd=detokenizer.detokenize(stem_xt, return_str=True)\n",
    "             stem_x_test.append(wwwd)"
   ]
  },
  {
   "cell_type": "code",
   "execution_count": 111,
   "metadata": {},
   "outputs": [
    {
     "data": {
      "text/plain": [
       "400"
      ]
     },
     "execution_count": 111,
     "metadata": {},
     "output_type": "execute_result"
    }
   ],
   "source": [
    "len(stem_x_test)"
   ]
  },
  {
   "cell_type": "code",
   "execution_count": 112,
   "metadata": {},
   "outputs": [
    {
     "data": {
      "text/plain": [
       "(1600, 23435)"
      ]
     },
     "execution_count": 112,
     "metadata": {},
     "output_type": "execute_result"
    }
   ],
   "source": [
    "#transform the documents to tf-idf\n",
    "from sklearn.feature_extraction.text import TfidfVectorizer\n",
    "vectorizer=TfidfVectorizer()\n",
    "vectorised_x=[]\n",
    "vectorised_train = vectorizer.fit_transform(stem_x_train)\n",
    "vectorised_train.shape"
   ]
  },
  {
   "cell_type": "code",
   "execution_count": 113,
   "metadata": {},
   "outputs": [
    {
     "data": {
      "text/plain": [
       "(400, 23435)"
      ]
     },
     "execution_count": 113,
     "metadata": {},
     "output_type": "execute_result"
    }
   ],
   "source": [
    "vectorised_test = vectorizer.transform(stem_x_test)\n",
    "vectorised_test.shape"
   ]
  },
  {
   "cell_type": "markdown",
   "metadata": {},
   "source": [
    "4 - Finally, build a model. To start, use a logistic regression (which we will review in detail in the coming lectures) (http://scikit-learn.org/stable/modules/generated/sklearn.linear_model.LogisticRegression.html)"
   ]
  },
  {
   "cell_type": "code",
   "execution_count": 114,
   "metadata": {
    "scrolled": true
   },
   "outputs": [
    {
     "data": {
      "text/plain": [
       "LogisticRegression(C=1.0, class_weight=None, dual=False, fit_intercept=True,\n",
       "          intercept_scaling=1, max_iter=100, multi_class='ovr', n_jobs=1,\n",
       "          penalty='l2', random_state=None, solver='liblinear', tol=0.0001,\n",
       "          verbose=0, warm_start=False)"
      ]
     },
     "execution_count": 114,
     "metadata": {},
     "output_type": "execute_result"
    }
   ],
   "source": [
    "#build the logistic regressio model 1\n",
    "from sklearn.linear_model import LogisticRegression\n",
    "from sklearn import metrics\n",
    "logreg = LogisticRegression()\n",
    "model1=logreg.fit(vectorised_train,y_train )\n",
    "model1"
   ]
  },
  {
   "cell_type": "code",
   "execution_count": 9,
   "metadata": {},
   "outputs": [
    {
     "ename": "NameError",
     "evalue": "name 'vectorised_train' is not defined",
     "output_type": "error",
     "traceback": [
      "\u001b[0;31m---------------------------------------------------------------------------\u001b[0m",
      "\u001b[0;31mNameError\u001b[0m                                 Traceback (most recent call last)",
      "\u001b[0;32m<ipython-input-9-bd438bd6b7fd>\u001b[0m in \u001b[0;36m<module>\u001b[0;34m()\u001b[0m\n\u001b[0;32m----> 1\u001b[0;31m \u001b[0mvectorised_train\u001b[0m\u001b[0;34m.\u001b[0m\u001b[0mshape\u001b[0m\u001b[0;34m\u001b[0m\u001b[0m\n\u001b[0m",
      "\u001b[0;31mNameError\u001b[0m: name 'vectorised_train' is not defined"
     ]
    }
   ],
   "source": [
    "vectorised_train.shape"
   ]
  },
  {
   "cell_type": "code",
   "execution_count": 115,
   "metadata": {
    "collapsed": true
   },
   "outputs": [],
   "source": [
    "y_pred = logreg.predict(vectorised_test)"
   ]
  },
  {
   "cell_type": "code",
   "execution_count": 116,
   "metadata": {},
   "outputs": [
    {
     "data": {
      "text/plain": [
       "array([[172,  35],\n",
       "       [ 35, 158]])"
      ]
     },
     "execution_count": 116,
     "metadata": {},
     "output_type": "execute_result"
    }
   ],
   "source": [
    "from sklearn.metrics import confusion_matrix,roc_curve, roc_auc_score\n",
    "confusion_matrix = confusion_matrix(y_test, y_pred)\n",
    "confusion_matrix"
   ]
  },
  {
   "cell_type": "markdown",
   "metadata": {},
   "source": [
    "The result of confusion_matrix tells that this model has 172+158 correct predictions and 35+35 incorrect predictions"
   ]
  },
  {
   "cell_type": "code",
   "execution_count": 117,
   "metadata": {},
   "outputs": [
    {
     "name": "stdout",
     "output_type": "stream",
     "text": [
      "             precision    recall  f1-score   support\n",
      "\n",
      "          0       0.83      0.83      0.83       207\n",
      "          1       0.82      0.82      0.82       193\n",
      "\n",
      "avg / total       0.82      0.82      0.82       400\n",
      "\n"
     ]
    }
   ],
   "source": [
    "from sklearn.metrics import classification_report\n",
    "print(classification_report(y_test, y_pred))"
   ]
  },
  {
   "cell_type": "markdown",
   "metadata": {},
   "source": [
    "The precision is the ratio tp / (tp + fp). So 82% of positive reviews are labeled positive among all reviews labeled as positive. The recall is the ratio tp / (tp + fn), so 82% of positive reviews are labeled positive among all reviews labeled right."
   ]
  },
  {
   "cell_type": "markdown",
   "metadata": {},
   "source": [
    "5 - Measure the efficacy of your model using the Reciever Operator Characteristic (ROC) Area Under the Curve (AUC). Report this metric on the test set of your data.\n",
    "\n",
    "For more info on this, see: http://scikit-learn.org/stable/auto_examples/model_selection/plot_roc_crossval.html#sphx-glr-auto-examples-model-selection-plot-roc-crossval-py"
   ]
  },
  {
   "cell_type": "code",
   "execution_count": 125,
   "metadata": {
    "scrolled": true
   },
   "outputs": [
    {
     "data": {
      "text/plain": [
       "0.89359465345047684"
      ]
     },
     "execution_count": 125,
     "metadata": {},
     "output_type": "execute_result"
    }
   ],
   "source": [
    "from sklearn.metrics import roc_auc_score\n",
    "roc_auc_score(y_test, y_pred_b)"
   ]
  },
  {
   "cell_type": "code",
   "execution_count": 120,
   "metadata": {
    "collapsed": true
   },
   "outputs": [],
   "source": [
    "y_pred_b=logreg.predict_proba(vectorised_test)\n",
    "y_pred_b=y_pred_b[:,1]"
   ]
  },
  {
   "cell_type": "code",
   "execution_count": 121,
   "metadata": {
    "collapsed": true
   },
   "outputs": [],
   "source": [
    "fpr1, tpr1, thresholds = metrics.roc_curve(y_test, y_pred_b)"
   ]
  },
  {
   "cell_type": "code",
   "execution_count": 124,
   "metadata": {},
   "outputs": [
    {
     "data": {
      "text/plain": [
       "0.89359465345047684"
      ]
     },
     "execution_count": 124,
     "metadata": {},
     "output_type": "execute_result"
    }
   ],
   "source": [
    "roc_auc1 = metrics.auc(fpr1, tpr1)\n",
    "roc_auc1"
   ]
  },
  {
   "cell_type": "code",
   "execution_count": 154,
   "metadata": {},
   "outputs": [
    {
     "data": {
      "image/png": "[encoded data removed]",
      "text/plain": [
       "<matplotlib.figure.Figure at 0x1c1c538ba8>"
      ]
     },
     "metadata": {},
     "output_type": "display_data"
    }
   ],
   "source": [
    "import matplotlib.pyplot as plt\n",
    "plt.title('Receiver Operating Characteristic')\n",
    "plt.plot(fpr1, tpr1, 'b', label = 'AUC = %0.2f' % roc_auc)\n",
    "plt.legend(loc = 'lower right')\n",
    "plt.plot([0, 1], [0, 1],'r--')\n",
    "plt.xlim([0, 1])\n",
    "plt.ylim([0, 1])\n",
    "plt.ylabel('True Positive Rate')\n",
    "plt.xlabel('False Positive Rate')\n",
    "plt.show()"
   ]
  },
  {
   "cell_type": "markdown",
   "metadata": {},
   "source": [
    "6 - Change a parameter in your model (introduce regularization) or change a parameter in your word vector transformation (http://scikit-learn.org/stable/modules/generated/sklearn.feature_extraction.text.TfidfVectorizer.html). Try introducing the use of stop words, or employing a cutoff on terms with min or max df."
   ]
  },
  {
   "cell_type": "code",
   "execution_count": 127,
   "metadata": {
    "collapsed": true
   },
   "outputs": [],
   "source": [
    "#model2 change the penalty \n",
    "logreg2 = LogisticRegression(penalty='l1')\n",
    "model2=logreg2.fit(vectorised_train,y_train )\n",
    "y_pred_2 = logreg2.predict(vectorised_test)"
   ]
  },
  {
   "cell_type": "code",
   "execution_count": 128,
   "metadata": {},
   "outputs": [
    {
     "name": "stdout",
     "output_type": "stream",
     "text": [
      "             precision    recall  f1-score   support\n",
      "\n",
      "          0       0.82      0.71      0.76       207\n",
      "          1       0.73      0.83      0.78       193\n",
      "\n",
      "avg / total       0.77      0.77      0.77       400\n",
      "\n"
     ]
    }
   ],
   "source": [
    "print(classification_report(y_test, y_pred_2))"
   ]
  },
  {
   "cell_type": "code",
   "execution_count": 138,
   "metadata": {
    "collapsed": true
   },
   "outputs": [],
   "source": [
    "#model3 adding stop_words in TfidfVectorizer\n",
    "vectorizer2=TfidfVectorizer(stop_words='english')\n",
    "vectorised_train2 = vectorizer2.fit_transform(stem_x_train)\n",
    "vectorised_test2 = vectorizer2.transform(stem_x_test)\n",
    "logreg = LogisticRegression()\n",
    "model3=logreg.fit(vectorised_train2,y_train )\n",
    "y_pred_3 = model3.predict(vectorised_test2)"
   ]
  },
  {
   "cell_type": "code",
   "execution_count": 139,
   "metadata": {
    "scrolled": true
   },
   "outputs": [
    {
     "name": "stdout",
     "output_type": "stream",
     "text": [
      "             precision    recall  f1-score   support\n",
      "\n",
      "          0       0.84      0.84      0.84       207\n",
      "          1       0.83      0.82      0.83       193\n",
      "\n",
      "avg / total       0.83      0.83      0.83       400\n",
      "\n"
     ]
    }
   ],
   "source": [
    "print(classification_report(y_test, y_pred_3))"
   ]
  },
  {
   "cell_type": "code",
   "execution_count": 144,
   "metadata": {
    "collapsed": true
   },
   "outputs": [],
   "source": [
    "#model4 change more parameters in TfidfVectorizer\n",
    "vectorizer3=TfidfVectorizer(ngram_range=(1,3),min_df=.0025, max_df=.1,stop_words='english')\n",
    "vectorised_train3 = vectorizer3.fit_transform(stem_x_train)\n",
    "vectorised_test3 = vectorizer3.transform(stem_x_test)\n",
    "logreg = LogisticRegression()\n",
    "model4=logreg.fit(vectorised_train3,y_train )\n",
    "y_pred_4 = model4.predict(vectorised_test3)"
   ]
  },
  {
   "cell_type": "code",
   "execution_count": 147,
   "metadata": {},
   "outputs": [
    {
     "name": "stdout",
     "output_type": "stream",
     "text": [
      "             precision    recall  f1-score   support\n",
      "\n",
      "          0       0.80      0.83      0.81       207\n",
      "          1       0.81      0.78      0.79       193\n",
      "\n",
      "avg / total       0.81      0.81      0.80       400\n",
      "\n"
     ]
    }
   ],
   "source": [
    "print(classification_report(y_test, y_pred_4))"
   ]
  },
  {
   "cell_type": "markdown",
   "metadata": {},
   "source": [
    "7 - Make four models in total, changing parameters and comparing the AUC results. Report your findings in a tabular form."
   ]
  },
  {
   "cell_type": "code",
   "execution_count": 134,
   "metadata": {},
   "outputs": [
    {
     "data": {
      "text/plain": [
       "0.89359465345047684"
      ]
     },
     "execution_count": 134,
     "metadata": {},
     "output_type": "execute_result"
    }
   ],
   "source": [
    "#auc of model1\n",
    "roc_auc1 = metrics.auc(fpr1, tpr1)\n",
    "roc_auc1"
   ]
  },
  {
   "cell_type": "code",
   "execution_count": 135,
   "metadata": {
    "collapsed": true
   },
   "outputs": [],
   "source": [
    "y_pred_b2=logreg2.predict_proba(vectorised_test)\n",
    "y_pred_b2=y_pred_b2[:,1]\n",
    "fpr2, tpr2, thresholds2 = metrics.roc_curve(y_test, y_pred_b2)"
   ]
  },
  {
   "cell_type": "code",
   "execution_count": 136,
   "metadata": {},
   "outputs": [
    {
     "data": {
      "text/plain": [
       "0.8412054767089685"
      ]
     },
     "execution_count": 136,
     "metadata": {},
     "output_type": "execute_result"
    }
   ],
   "source": [
    "#auc of model2\n",
    "roc_auc2 = metrics.auc(fpr2, tpr2)\n",
    "roc_auc2"
   ]
  },
  {
   "cell_type": "code",
   "execution_count": 140,
   "metadata": {
    "collapsed": true
   },
   "outputs": [],
   "source": [
    "y_pred_b3=logreg.predict_proba(vectorised_test2)\n",
    "y_pred_b3=y_pred_b3[:,1]\n",
    "fpr3, tpr3, thresholds3 = metrics.roc_curve(y_test, y_pred_b3)"
   ]
  },
  {
   "cell_type": "code",
   "execution_count": 141,
   "metadata": {},
   "outputs": [
    {
     "data": {
      "text/plain": [
       "0.89269354959825786"
      ]
     },
     "execution_count": 141,
     "metadata": {},
     "output_type": "execute_result"
    }
   ],
   "source": [
    "roc_auc3 = metrics.auc(fpr3, tpr3)\n",
    "roc_auc3"
   ]
  },
  {
   "cell_type": "code",
   "execution_count": 145,
   "metadata": {
    "collapsed": true
   },
   "outputs": [],
   "source": [
    "y_pred_b4=logreg.predict_proba(vectorised_test3)\n",
    "y_pred_b4=y_pred_b4[:,1]\n",
    "fpr4, tpr4, thresholds4 = metrics.roc_curve(y_test, y_pred_b4)"
   ]
  },
  {
   "cell_type": "code",
   "execution_count": 146,
   "metadata": {},
   "outputs": [
    {
     "data": {
      "text/plain": [
       "0.87054141323120804"
      ]
     },
     "execution_count": 146,
     "metadata": {},
     "output_type": "execute_result"
    }
   ],
   "source": [
    "roc_auc4 = metrics.auc(fpr4, tpr4)\n",
    "roc_auc4"
   ]
  },
  {
   "cell_type": "code",
   "execution_count": 167,
   "metadata": {
    "scrolled": true
   },
   "outputs": [
    {
     "name": "stdout",
     "output_type": "stream",
     "text": [
      "----  -----\n",
      "AUC1  0.893\n",
      "AUC2  0.841\n",
      "AUC3  0.892\n",
      "AUC4  0.87\n",
      "----  -----\n"
     ]
    }
   ],
   "source": [
    "#!pip install tabulate\n",
    "from tabulate import tabulate\n",
    "print( tabulate([[\"AUC1\", 0.893], [\"AUC2\", 0.841],[\"AUC3\",0.892],[\"AUC4\", 0.870]]))"
   ]
  },
  {
   "cell_type": "markdown",
   "metadata": {},
   "source": [
    "The four models all have AUC more than 80%, that means they all distinguish labels good. The highest one is the model one, which is very close to AUC OF the third model. The third model adds stop_words in the tfidfvectorier parameter but the result shows that it does not have a very big impact. The second model changes penalty from l2 to l1, then it  has relative big difference than others due to the change of penalty term.l1 regularization helps to perform feature selection, but in this case l2 is better. \n",
    " "
   ]
  },
  {
   "cell_type": "markdown",
   "metadata": {},
   "source": [
    "Problem:During the process of runing the model several times, I also found that sometimes the efficacy changes a lot. Just take model one for example, now the AUC is 0.89 but one time it turned to be 0.82.And in that case, the precision and recall decreased to average 0.49. While when I ran it again, it turned to good again. I am not sure whether it's that when spliting the data into train and test, some random test reviews are more easy for the model to classify."
   ]
  },
  {
   "cell_type": "code",
   "execution_count": null,
   "metadata": {
    "collapsed": true
   },
   "outputs": [],
   "source": []
  }
 ],
 "metadata": {
  "anaconda-cloud": {},
  "kernelspec": {
   "display_name": "Python 3",
   "language": "python",
   "name": "python3"
  },
  "language_info": {
   "codemirror_mode": {
    "name": "ipython",
    "version": 3
   },
   "file_extension": ".py",
   "mimetype": "text/x-python",
   "name": "python",
   "nbconvert_exporter": "python",
   "pygments_lexer": "ipython3",
   "version": "3.6.2"
  }
 },
 "nbformat": 4,
 "nbformat_minor": 1
}
